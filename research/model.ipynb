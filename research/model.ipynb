{
 "cells": [
  {
   "cell_type": "code",
   "execution_count": null,
   "metadata": {},
   "outputs": [
    {
     "name": "stdout",
     "output_type": "stream",
     "text": [
      "Inference Result: {\n",
      "  \"inference_id\": \"5ee7ec1d-be90-45f2-873c-d81458e867b6\",\n",
      "  \"time\": 0.3107710920003228,\n",
      "  \"image\": {\n",
      "    \"width\": 640,\n",
      "    \"height\": 640\n",
      "  },\n",
      "  \"predictions\": {\n",
      "    \"Acne\": {\n",
      "      \"confidence\": 0.17755350470542908,\n",
      "      \"class_id\": 0\n",
      "    },\n",
      "    \"Actinic\": {\n",
      "      \"confidence\": 0.1186690628528595,\n",
      "      \"class_id\": 1\n",
      "    },\n",
      "    \"Eczema\": {\n",
      "      \"confidence\": 0.11479708552360535,\n",
      "      \"class_id\": 2\n",
      "    },\n",
      "    \"Keratosis\": {\n",
      "      \"confidence\": 0.11460337042808533,\n",
      "      \"class_id\": 3\n",
      "    },\n",
      "    \"Melanoma\": {\n",
      "      \"confidence\": 0.12143555283546448,\n",
      "      \"class_id\": 4\n",
      "    },\n",
      "    \"Pigmentation\": {\n",
      "      \"confidence\": 0.11335942149162292,\n",
      "      \"class_id\": 5\n",
      "    },\n",
      "    \"Scars\": {\n",
      "      \"confidence\": 0.11095637083053589,\n",
      "      \"class_id\": 6\n",
      "    },\n",
      "    \"Vitiligo\": {\n",
      "      \"confidence\": 0.7442247271537781,\n",
      "      \"class_id\": 7\n",
      "    }\n",
      "  },\n",
      "  \"predicted_classes\": [\n",
      "    \"Vitiligo\"\n",
      "  ]\n",
      "}\n"
     ]
    }
   ],
   "source": [
    "from inference_sdk import InferenceHTTPClient\n",
    "import supervision as sv\n",
    "import json\n",
    "from roboflow import Roboflow\n",
    "import numpy as np\n",
    "\n",
    "# Initialize the inference client with your API key\n",
    "CLIENT = InferenceHTTPClient(\n",
    "    api_url=\"https://classify.roboflow.com\",\n",
    "    api_key=\"ak6Wfyf9y0YXzuBwwkOF\"\n",
    ")\n",
    "\n",
    "\n",
    "img_path = r\"C:\\Users\\Admin\\Desktop\\AIDarmatologicalConsultancy\\data\\SkinDiagnosis-Data\\valid\\Images\\vitiligo2_jpg.rf.669beba7871bac67ddbedbe57831b9ec.jpg\"\n",
    "\n",
    "try:\n",
    "    \n",
    "    result = CLIENT.infer(img_path, model_id=\"darmatological-diagnosis/1\")\n",
    "\n",
    "    print(\"Inference Result:\", json.dumps(result, indent=2))\n",
    "\n",
    "except Exception as e:\n",
    "    print(\"An error occurred during inference:\", e)\n",
    "    if hasattr(e, 'response') and e.response is not None:\n",
    "        print(\"HTTP response content:\", e.response.content.decode())\n"
   ]
  },
  {
   "cell_type": "code",
   "execution_count": null,
   "metadata": {},
   "outputs": [
    {
     "name": "stdout",
     "output_type": "stream",
     "text": [
      "Acne: Confidence=0.18, Class ID=0\n",
      "Actinic: Confidence=0.12, Class ID=1\n",
      "Eczema: Confidence=0.11, Class ID=2\n",
      "Keratosis: Confidence=0.11, Class ID=3\n",
      "Melanoma: Confidence=0.12, Class ID=4\n",
      "Pigmentation: Confidence=0.11, Class ID=5\n",
      "Scars: Confidence=0.11, Class ID=6\n",
      "Vitiligo: Confidence=0.74, Class ID=7\n"
     ]
    }
   ],
   "source": [
    "# Initialize the inference client with your API key\n",
    "CLIENT = InferenceHTTPClient(\n",
    "    api_url=\"https://classify.roboflow.com\",\n",
    "    api_key=\"ak6Wfyf9y0YXzuBwwkOF\" \n",
    ")\n",
    "\n",
    "# Define the path to your image\n",
    "img_path = r\"C:\\Users\\Admin\\Desktop\\AIDarmatologicalConsultancy\\data\\SkinDiagnosis-Data\\valid\\Images\\vitiligo2_jpg.rf.669beba7871bac67ddbedbe57831b9ec.jpg\"\n",
    "\n",
    "try:\n",
    "    # Run inference on the specified image\n",
    "    result = CLIENT.infer(img_path, model_id=\"darmatological-diagnosis/1\")\n",
    "\n",
    "    # Extract predictions from the result\n",
    "    predictions = result[\"predictions\"]\n",
    "\n",
    "    # Prepare arrays for confidence scores and class IDs\n",
    "    confidence = np.array([data[\"confidence\"] for data in predictions.values()], dtype=np.float32)\n",
    "    class_id = np.array([data[\"class_id\"] for data in predictions.values()], dtype=np.int32)\n",
    "\n",
    "    # Generate dummy bounding boxes (all zeros) for compatibility with supervision's Detections class\n",
    "    xyxy = np.zeros((len(predictions), 4), dtype=np.float32)\n",
    "\n",
    "    # Create a detections object using the extracted data\n",
    "    detections = sv.Detections(\n",
    "        confidence=confidence,\n",
    "        class_id=class_id,\n",
    "        xyxy=xyxy\n",
    "    )\n",
    "\n",
    "    # Display each predicted class with its confidence score\n",
    "    for disease, data in predictions.items():\n",
    "        print(f\"{disease}: Confidence={data['confidence']:.2f}, Class ID={data['class_id']}\")\n",
    "\n",
    "except Exception as e:\n",
    "    print(\"An error occurred during inference:\", e)\n"
   ]
  },
  {
   "cell_type": "code",
   "execution_count": 37,
   "metadata": {},
   "outputs": [
    {
     "name": "stdout",
     "output_type": "stream",
     "text": [
      "loading Roboflow workspace...\n",
      "loading Roboflow project...\n",
      "Acne: Confidence=0.76\n"
     ]
    }
   ],
   "source": [
    "\n",
    "\n",
    "# Initialize the Roboflow client with your API key\n",
    "rf = Roboflow(api_key=\"ak6Wfyf9y0YXzuBwwkOF\")\n",
    "\n",
    "# Load the project and model\n",
    "project = rf.workspace().project(\"darmatological-diagnosis\")\n",
    "model = project.version(1).model\n",
    "\n",
    "# Define the image path\n",
    "img_path = r\"C:\\Users\\Admin\\Desktop\\AIDarmatologicalConsultancy\\data\\SkinDiagnosis-Data\\train\\images\\07SteroidRosacea43_jpg.rf.1a2fb3d9118703d3b3a42a4f6a647d52.jpg\"\n",
    "\n",
    "# Perform inference using the model\n",
    "result = model.predict(img_path).json()\n",
    "\n",
    "# Extract the predictions dictionary\n",
    "predictions = result[\"predictions\"][0][\"predictions\"]\n",
    "\n",
    "# Find the disease with the highest confidence\n",
    "highest_confidence = max(predictions, key=lambda x: predictions[x][\"confidence\"])\n",
    "\n",
    "# Extract and display the disease with the highest confidence\n",
    "class_name = highest_confidence\n",
    "confidence = predictions[highest_confidence][\"confidence\"]\n",
    "print(f\"{class_name}: Confidence={confidence:.2f}\")\n"
   ]
  },
  {
   "cell_type": "code",
   "execution_count": 38,
   "metadata": {},
   "outputs": [],
   "source": [
    "import pickle\n",
    "import os\n",
    "\n",
    "folder_path = r\"C:\\Users\\Admin\\Desktop\\AIDarmatologicalConsultancy\\output\"\n",
    "\n",
    "file_path = os.path.join(folder_path, \"disease_output.pkl\")\n",
    "output_data = {\n",
    "    \"disease\": class_name,\n",
    "    \"confidence\": confidence\n",
    "}\n",
    "\n",
    "with open(file_path, \"wb\") as pickle_file:\n",
    "    pickle.dump(output_data, pickle_file)"
   ]
  }
 ],
 "metadata": {
  "kernelspec": {
   "display_name": "Python 3",
   "language": "python",
   "name": "python3"
  },
  "language_info": {
   "codemirror_mode": {
    "name": "ipython",
    "version": 3
   },
   "file_extension": ".py",
   "mimetype": "text/x-python",
   "name": "python",
   "nbconvert_exporter": "python",
   "pygments_lexer": "ipython3",
   "version": "3.10.15"
  }
 },
 "nbformat": 4,
 "nbformat_minor": 2
}
